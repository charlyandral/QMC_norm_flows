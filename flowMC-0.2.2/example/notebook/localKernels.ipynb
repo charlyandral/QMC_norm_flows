{
 "cells": [
  {
   "cell_type": "markdown",
   "metadata": {},
   "source": [
    "# Local Sampler Kernels"
   ]
  },
  {
   "cell_type": "markdown",
   "metadata": {},
   "source": [
    "Who doesn't like a cute animation of sampling kernels?"
   ]
  },
  {
   "cell_type": "markdown",
   "metadata": {},
   "source": []
  }
 ],
 "metadata": {
  "kernelspec": {
   "display_name": "Python 3.8.13 ('pytorch')",
   "language": "python",
   "name": "python3"
  },
  "language_info": {
   "name": "python",
   "version": "3.8.13"
  },
  "orig_nbformat": 4,
  "vscode": {
   "interpreter": {
    "hash": "ae6a26431d5729e52787d8340de92e98bb4d512a4d1cd15d8dd78e32d3a262a7"
   }
  }
 },
 "nbformat": 4,
 "nbformat_minor": 2
}
